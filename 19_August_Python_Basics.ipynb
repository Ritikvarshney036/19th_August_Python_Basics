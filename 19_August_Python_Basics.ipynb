{
 "cells": [
  {
   "cell_type": "markdown",
   "id": "52207322-b915-47b5-bbe1-e2d3ac73ce1a",
   "metadata": {},
   "source": [
    "Topic: Python Basics Variable"
   ]
  },
  {
   "cell_type": "code",
   "execution_count": null,
   "id": "4968a7b1-4e99-45bd-821e-3321bebe0008",
   "metadata": {},
   "outputs": [],
   "source": []
  },
  {
   "cell_type": "markdown",
   "id": "5ff425db-1b59-4fb1-9f5c-ddf6efaa42db",
   "metadata": {},
   "source": [
    "Question 1- Declare two variable 'x' and 'y' and assign them integer values. Swap the value of these variables without using any temporary variable."
   ]
  },
  {
   "cell_type": "code",
   "execution_count": 1,
   "id": "ad7a3d51-7a65-4c29-afd7-7acbd74d3a0b",
   "metadata": {},
   "outputs": [
    {
     "name": "stdin",
     "output_type": "stream",
     "text": [
      "Enter the value of a:  25\n",
      "Enter the value of b:  10\n"
     ]
    },
    {
     "name": "stdout",
     "output_type": "stream",
     "text": [
      "Now the values are change\n",
      "The new value of a will be:  10\n",
      "The new value of b will be:  25\n"
     ]
    }
   ],
   "source": [
    "a=int(input(\"Enter the value of a: \"))\n",
    "b=int(input(\"Enter the value of b: \"))\n",
    "# values of a and b before swapping\n",
    "a,b=b,a\n",
    "print(\"Now the values are change\")\n",
    "print(\"The new value of a will be: \",a)\n",
    "print(\"The new value of b will be: \",b)\n"
   ]
  },
  {
   "cell_type": "code",
   "execution_count": null,
   "id": "e7096a75-8e3d-491d-be0d-8e87e813753e",
   "metadata": {},
   "outputs": [],
   "source": []
  },
  {
   "cell_type": "markdown",
   "id": "24cc1f8d-f9ef-4972-b40e-f7c01fc2fa7b",
   "metadata": {},
   "source": [
    "Question 2- Create a program that calculate the area of the rectangle. Take the length and width as inputs from the user and store them in variables.calulate and display the area. "
   ]
  },
  {
   "cell_type": "code",
   "execution_count": 1,
   "id": "765b9c31-b6b0-4f85-b550-c821fb429bae",
   "metadata": {},
   "outputs": [
    {
     "name": "stdin",
     "output_type": "stream",
     "text": [
      "Enter the length of the rectangle:  25\n",
      "Enter the width of the rectangle:  2\n"
     ]
    },
    {
     "name": "stdout",
     "output_type": "stream",
     "text": [
      "Area of the rectangle is:  50\n"
     ]
    }
   ],
   "source": [
    "l=int(input(\"Enter the length of the rectangle: \"))\n",
    "w=int(input(\"Enter the width of the rectangle: \"))\n",
    "# here l is the length and w is width of the rectangle\n",
    "area=l*w\n",
    "print(\"Area of the rectangle is: \",area)\n",
    "# now the area of the rectangle will be dispaly as an output"
   ]
  },
  {
   "cell_type": "code",
   "execution_count": null,
   "id": "1b583386-911d-497f-b5b9-63422de2a40d",
   "metadata": {},
   "outputs": [],
   "source": []
  },
  {
   "cell_type": "markdown",
   "id": "bf0f84e8-f841-4766-bfd8-dc5e1d56d2a5",
   "metadata": {},
   "source": [
    "Question 3- Write a python program that converts temperature from celcius to fahrenheit . Take the temperature in celcius as input, store it in a variables. Calculate and display the area."
   ]
  },
  {
   "cell_type": "code",
   "execution_count": 21,
   "id": "f760b6c8-8653-47cc-859c-e84740251991",
   "metadata": {},
   "outputs": [
    {
     "name": "stdin",
     "output_type": "stream",
     "text": [
      "Enter the temperatue in fahrenheit : 100\n"
     ]
    },
    {
     "name": "stdout",
     "output_type": "stream",
     "text": [
      "temp in celcius:  37.77777777777778\n"
     ]
    }
   ],
   "source": [
    "f=float(input(\"Enter the temperatue in fahrenheit :\"))\n",
    "# here f is temperature in fahrenheit\n",
    "c=(f-32)*(5/9)\n",
    "# here the c is temperature in celcius \n",
    "print(\"temp in celcius: \",c)\n",
    "# now the temperature in celcius is display as an outp"
   ]
  },
  {
   "cell_type": "code",
   "execution_count": null,
   "id": "89663084-cabb-4017-85de-329267f75d88",
   "metadata": {},
   "outputs": [],
   "source": []
  },
  {
   "cell_type": "markdown",
   "id": "2aac01e7-a414-4500-be54-4eb6366d4d84",
   "metadata": {},
   "source": [
    "String based Question"
   ]
  },
  {
   "cell_type": "code",
   "execution_count": null,
   "id": "40b47af2-fb47-4a4c-91ff-7264e92419b4",
   "metadata": {},
   "outputs": [],
   "source": []
  },
  {
   "cell_type": "markdown",
   "id": "038c4370-fb7d-48a6-84a0-dd200ad303e4",
   "metadata": {},
   "source": [
    "Question 1-Write a python program that takes a string as input and prints the length of the string."
   ]
  },
  {
   "cell_type": "code",
   "execution_count": 20,
   "id": "f6798a98-342d-4d4a-8745-a07d08038556",
   "metadata": {},
   "outputs": [
    {
     "name": "stdin",
     "output_type": "stream",
     "text": [
      "Enter the string:  malayalam\n"
     ]
    },
    {
     "name": "stdout",
     "output_type": "stream",
     "text": [
      "The length of the string is:  9\n"
     ]
    }
   ],
   "source": [
    "s=input(\"Enter the string: \")\n",
    "# here s is a variable that takes input as string\n",
    "count=0\n",
    "for i in s:\n",
    "    count+=1\n",
    "# here I am using the for loop to find the length of the string        \n",
    "print(\"The length of the string is: \",count)    \n"
   ]
  },
  {
   "cell_type": "code",
   "execution_count": null,
   "id": "90dc4c28-3526-43ff-a52f-93c40b20ac13",
   "metadata": {},
   "outputs": [],
   "source": []
  },
  {
   "cell_type": "markdown",
   "id": "fb176472-1c82-4ff1-8257-8427264230d1",
   "metadata": {},
   "source": [
    "Question 2-Create a program that takes a sentence from the user and counts the number of vowels(a,e,i,o,u) in the string"
   ]
  },
  {
   "cell_type": "code",
   "execution_count": 19,
   "id": "cb617fbb-0dc0-41b4-aab3-cf9c2a31939e",
   "metadata": {},
   "outputs": [
    {
     "name": "stdin",
     "output_type": "stream",
     "text": [
      "Enter the string : aligarh\n"
     ]
    },
    {
     "name": "stdout",
     "output_type": "stream",
     "text": [
      "Total number of the vowel in the string:  3\n"
     ]
    }
   ],
   "source": [
    "count_a=0\n",
    "count_e=0\n",
    "count_i=0\n",
    "count_o=0\n",
    "count_u=0\n",
    "# initially I take the value of count equal to zero.\n",
    "letter=input(\"Enter the string :\")\n",
    "lower=letter.lower()\n",
    "for i in lower:\n",
    "# here I use the for loop iterate the value in the lower.\n",
    "    if i =='a':\n",
    "        count_a+=1\n",
    "    elif i =='e':\n",
    "        count_e+=1\n",
    "    elif i =='i':\n",
    "        count_i+=1\n",
    "    elif i =='o':\n",
    "        count_O+=1\n",
    "    elif i=='u':\n",
    "        count_u+=1       \n",
    "#I use the conditional sentence to get the particular value present in the string.\n",
    "total=count_a+count_e+count_i+count_o+count_u\n",
    "\n",
    "print(\"Total number of the vowel in the string: \",total)"
   ]
  },
  {
   "cell_type": "code",
   "execution_count": null,
   "id": "66e49543-4f20-481b-92bc-fe335c5a7142",
   "metadata": {},
   "outputs": [],
   "source": []
  },
  {
   "cell_type": "markdown",
   "id": "9b56ae01-f843-4d55-b3a2-f979d0463f72",
   "metadata": {},
   "source": [
    "Question 3- Given a string, reverse the order of character using string slicing and print the reversed string."
   ]
  },
  {
   "cell_type": "code",
   "execution_count": 12,
   "id": "1e9ebde7-10f7-4dbd-9245-93c5d0bf7995",
   "metadata": {},
   "outputs": [
    {
     "name": "stdin",
     "output_type": "stream",
     "text": [
      "Enter the string:  my name is ritik\n"
     ]
    },
    {
     "name": "stdout",
     "output_type": "stream",
     "text": [
      "Reverse of the given string is:  kitir si eman ym\n"
     ]
    }
   ],
   "source": [
    "string=input(\"Enter the string: \")\n",
    "reverse=string[::-1]\n",
    "#here I use the slicing to reverse the string\n",
    "print(\"Reverse of the given string is: \",reverse)\n",
    "# now I get the output as reverse string"
   ]
  },
  {
   "cell_type": "code",
   "execution_count": null,
   "id": "201f1125-9900-45d8-8348-ef9acd256a3f",
   "metadata": {},
   "outputs": [],
   "source": []
  },
  {
   "cell_type": "markdown",
   "id": "563ba128-5f77-4cd4-a55c-b225af6d5272",
   "metadata": {},
   "source": [
    "Question 4-Write a program that takes a string as input and checks if it is a palindrome(reads the same forwards and backwards)."
   ]
  },
  {
   "cell_type": "code",
   "execution_count": 15,
   "id": "0af1e8b5-2f05-4ce2-932c-6bd51406c309",
   "metadata": {},
   "outputs": [
    {
     "name": "stdin",
     "output_type": "stream",
     "text": [
      "Enter the string:  string\n"
     ]
    },
    {
     "name": "stdout",
     "output_type": "stream",
     "text": [
      "This string is not palindrome.\n"
     ]
    }
   ],
   "source": [
    "sentence=input(\"Enter the string: \")\n",
    "rev=sentence[::-1]\n",
    "# here I use slicing concept to get the string reverse\n",
    "if rev==sentence:\n",
    "# I use condtional statement to find whether string is palindrome or not    \n",
    "    print(\"This string is palindrome.\")\n",
    "else :\n",
    "    print(\"This string is not palindrome.\")"
   ]
  },
  {
   "cell_type": "code",
   "execution_count": null,
   "id": "f995a090-2ba2-43e3-9c06-7adffa80ba0f",
   "metadata": {},
   "outputs": [],
   "source": []
  },
  {
   "cell_type": "markdown",
   "id": "00c6cf85-8705-44f5-81d1-57e6eaa40423",
   "metadata": {},
   "source": [
    "Question 5- Create a program that takes a string as input and removes all the spaces from it. Print the modifies string without spaces."
   ]
  },
  {
   "cell_type": "code",
   "execution_count": 24,
   "id": "fead77fc-0b4b-4fe7-b24b-4c738a8efe50",
   "metadata": {},
   "outputs": [
    {
     "name": "stdin",
     "output_type": "stream",
     "text": [
      "Enter the string :   jhf kj\n"
     ]
    },
    {
     "name": "stdout",
     "output_type": "stream",
     "text": [
      "Now all white space delete in the string : jhf kj\n"
     ]
    }
   ],
   "source": [
    "sen=input(\"Enter the string :\")\n",
    "without_space=sen.strip()\n",
    "# here I use strip() fuction to remove all the whitespaces in given string\n",
    "print(\"Now all white space delete in the string :\",without_space)"
   ]
  },
  {
   "cell_type": "code",
   "execution_count": null,
   "id": "0caf1495-3207-4f11-bfb0-ba5bedfca240",
   "metadata": {},
   "outputs": [],
   "source": [
    "\n"
   ]
  }
 ],
 "metadata": {
  "kernelspec": {
   "display_name": "Python 3 (ipykernel)",
   "language": "python",
   "name": "python3"
  },
  "language_info": {
   "codemirror_mode": {
    "name": "ipython",
    "version": 3
   },
   "file_extension": ".py",
   "mimetype": "text/x-python",
   "name": "python",
   "nbconvert_exporter": "python",
   "pygments_lexer": "ipython3",
   "version": "3.10.8"
  }
 },
 "nbformat": 4,
 "nbformat_minor": 5
}
